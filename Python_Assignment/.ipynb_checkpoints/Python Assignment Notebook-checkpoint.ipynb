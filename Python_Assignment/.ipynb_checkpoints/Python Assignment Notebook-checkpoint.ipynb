{
 "cells": [
  {
   "cell_type": "markdown",
   "id": "fc2c8ace",
   "metadata": {},
   "source": [
    "# Python Assignment\n",
    "\n",
    "## Script for Sequence Translating Penguin Data for Dr.X\n",
    "\n",
    "This script is used for processing and visualizing data for 12 penguin species. More specifically, cytochrome-b sequencing data will be translated and used to compute simple summaries to visualize data.\n",
    "\n",
    "Part of this script was created in part by Dr. X."
   ]
  },
  {
   "cell_type": "markdown",
   "id": "5f9d403b",
   "metadata": {},
   "source": [
    "## Libraries/Installations"
   ]
  },
  {
   "cell_type": "code",
   "execution_count": 16,
   "id": "37a2978b",
   "metadata": {},
   "outputs": [],
   "source": [
    "# IMPORTANT: install BioPython for script to be functional\n",
    "\n",
    "from Bio import SeqIO\n",
    "from Bio.Data import CodonTable\n",
    "import pandas as pd"
   ]
  },
  {
   "cell_type": "markdown",
   "id": "e88c2176",
   "metadata": {},
   "source": [
    "## Functions"
   ]
  },
  {
   "cell_type": "code",
   "execution_count": 3,
   "id": "1db94dd5",
   "metadata": {},
   "outputs": [],
   "source": [
    "# Assigns sequences with the species name to a dictionary variable\n",
    "def get_sequences_from_file(fasta_fn):\n",
    "    sequence_data_dict = {}\n",
    "    for record in SeqIO.parse(fasta_fn, \"fasta\"):\n",
    "        \n",
    "        #Splits the description line of the fasta file (starting with \">\")\n",
    "        description = record.description.split()\n",
    "        \n",
    "        # Assigns the species name to a variable\n",
    "        species_name = description[1] + \" \" + description[2]\n",
    "        \n",
    "        #Adds the species name and FASTA sequence to the dictionary variable\n",
    "        sequence_data_dict[species_name] = record.seq\n",
    "        \n",
    "    #Returns the created dictionary\n",
    "    return(sequence_data_dict)"
   ]
  },
  {
   "cell_type": "code",
   "execution_count": 11,
   "id": "17ef561b",
   "metadata": {},
   "outputs": [],
   "source": [
    "#Translate a nucleotide sequence into an amino acid sequence\n",
    "def translate_sequence(string_nucleotides):\n",
    "    #Creates a BioPython object that holds amino acid code for Vertebrate Mitochondria\n",
    "    mito_table = CodonTable.unambiguous_dna_by_name[\"Vertebrate Mitochondrial\"]\n",
    "    aa_sequence_string = \"\"\n",
    "    \n",
    "    #Iterates over the nucleotide sequence in steps of 3\n",
    "    for i in range(0, len(string_nucleotides) - 2, 3):\n",
    "        \n",
    "        #Assigns three nucleotides to the codon variable\n",
    "        codon = string_nucleotides[i:i+3]\n",
    "        \n",
    "        #Breaks loop if a stop codon is found, leaving it out of the returned aa sequence\n",
    "        if codon in mito_table.stop_codons:\n",
    "            break\n",
    "            \n",
    "        #Uses the codon table method to search the dictionary mito_table for the codon that matches the current\n",
    "        #sequence and adds it to the aa_sequence_string\n",
    "        aa = mito_table.forward_table[codon]\n",
    "        aa_sequence_string += aa\n",
    "        \n",
    "    return(aa_sequence_string)"
   ]
  },
  {
   "cell_type": "code",
   "execution_count": 19,
   "id": "7b2833f8",
   "metadata": {},
   "outputs": [],
   "source": [
    "#Seperate function to translate the nucleotide sequence into an amino acid sequence using the Seq module from BioPython\n",
    "from Bio.Seq import Seq\n",
    "def alternative_translation(string_nucleotides):\n",
    "    \n",
    "    #Assigns the nucleotide sequence to an object in BioPython that is used for sequence manipulation\n",
    "    seq = Seq(string_nucleotides)\n",
    "    \n",
    "    #Uses the translate method to obtain the aa sequence\n",
    "    aa_seq = seq.translate(table = \"Vertebrate Mitochondrial\", to_stop = True)\n",
    "    \n",
    "    #Changes the variable type from Seq object to string\n",
    "    aa_seq_string = str(aa_seq)\n",
    "    \n",
    "    return(aa_seq_string)\n",
    "    "
   ]
  },
  {
   "cell_type": "code",
   "execution_count": 26,
   "id": "6ec08660",
   "metadata": {},
   "outputs": [],
   "source": [
    "#Calculates the molecular weight for each amino acid sequence using the ProtPram BioPython Module\n",
    "from Bio.SeqUtils.ProtParam import ProteinAnalysis\n",
    "def compute_molecular_weight(aa_seq):\n",
    "   \n",
    "    #Ensures that the aa_seq variable is a str\n",
    "    aa_seq_string = str(aa_seq)\n",
    "    \n",
    "    #Uses the Protein_Analysis function to convert the string into a Seq object for the ProtPram module\n",
    "    analyzed_aa_seq = ProteinAnalysis(aa_seq_string)\n",
    "    \n",
    "    #Calculates the molecular weight of the aa string\n",
    "    molecular_weight = analyzed_aa_seq.molecular_weight()\n",
    "    \n",
    "    return(molecular_weight)\n",
    "    "
   ]
  },
  {
   "cell_type": "code",
   "execution_count": null,
   "id": "c658e43c",
   "metadata": {},
   "outputs": [],
   "source": []
  }
 ],
 "metadata": {
  "kernelspec": {
   "display_name": "Python3 (BCB/EEOB 546)",
   "language": "python",
   "name": "notebook"
  },
  "language_info": {
   "codemirror_mode": {
    "name": "ipython",
    "version": 3
   },
   "file_extension": ".py",
   "mimetype": "text/x-python",
   "name": "python",
   "nbconvert_exporter": "python",
   "pygments_lexer": "ipython3",
   "version": "3.13.3"
  }
 },
 "nbformat": 4,
 "nbformat_minor": 5
}
